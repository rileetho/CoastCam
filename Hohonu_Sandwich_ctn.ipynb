{
 "cells": [
  {
   "cell_type": "code",
   "execution_count": 1,
   "id": "f222cb82",
   "metadata": {},
   "outputs": [],
   "source": [
    "### import packages\n",
    "import requests\n",
    "from json import loads\n",
    "import scipy\n",
    "from scipy.io import savemat\n",
    "import numpy as np"
   ]
  },
  {
   "cell_type": "markdown",
   "id": "ccb6b525",
   "metadata": {},
   "source": [
    "## the following cells get NAVD data"
   ]
  },
  {
   "cell_type": "code",
   "execution_count": 2,
   "id": "2ce4a36f-6516-497d-beb7-2aab9139bccf",
   "metadata": {},
   "outputs": [],
   "source": [
    "# change datum to MHHW\n",
    "\n",
    "navd_urls = [\"https://dashboard.hohonu.io/api/v1/stations/hohonu-162/waterlevel?from=2024-01-01%2000%3A00&to=2024-01-31%2023%3A59&units=metric&datum=NAVD&qc_level=1&flags=false&predictions=false\",\n",
    "             \"https://dashboard.hohonu.io/api/v1/stations/hohonu-162/waterlevel?from=2024-02-01%2000%3A00&to=2024-02-29%2023%3A59&units=metric&datum=NAVD&qc_level=1&flags=false&predictions=false\",\n",
    "             \"https://dashboard.hohonu.io/api/v1/stations/hohonu-162/waterlevel?from=2024-03-01%2000%3A00&to=2024-03-31%2023%3A59&units=metric&datum=NAVD&qc_level=1&flags=false&predictions=false\",\n",
    "             \"https://dashboard.hohonu.io/api/v1/stations/hohonu-162/waterlevel?from=2024-04-01%2000%3A00&to=2024-04-30%2023%3A59&units=metric&datum=NAVD&qc_level=1&flags=false&predictions=false\",\n",
    "             \"https://dashboard.hohonu.io/api/v1/stations/hohonu-162/waterlevel?from=2024-05-01%2000%3A00&to=2024-05-31%2023%3A59&units=metric&datum=NAVD&qc_level=1&flags=false&predictions=false\",\n",
    "             \"https://dashboard.hohonu.io/api/v1/stations/hohonu-162/waterlevel?from=2024-06-01%2000%3A00&to=2024-06-30%2023%3A59&units=metric&datum=NAVD&qc_level=1&flags=false&predictions=false\",\n",
    "             \"https://dashboard.hohonu.io/api/v1/stations/hohonu-162/waterlevel?from=2024-07-01%2000%3A00&to=2024-07-31%2023%3A59&units=metric&datum=NAVD&qc_level=1&flags=false&predictions=false\",\n",
    "             \"https://dashboard.hohonu.io/api/v1/stations/hohonu-162/waterlevel?from=2024-08-01%2000%3A00&to=2024-08-31%2023%3A59&units=metric&datum=NAVD&qc_level=1&flags=false&predictions=false\",\n",
    "             \"https://dashboard.hohonu.io/api/v1/stations/hohonu-162/waterlevel?from=2024-09-01%2000%3A00&to=2024-09-30%2023%3A59&units=metric&datum=NAVD&qc_level=1&flags=false&predictions=false\",\n",
    "             \"https://dashboard.hohonu.io/api/v1/stations/hohonu-162/waterlevel?from=2024-10-01%2000%3A00&to=2024-10-31%2023%3A59&units=metric&datum=NAVD&qc_level=1&flags=false&predictions=false\",\n",
    "             \"https://dashboard.hohonu.io/api/v1/stations/hohonu-162/waterlevel?from=2024-11-01%2000%3A00&to=2024-11-30%2023%3A59&units=metric&datum=NAVD&qc_level=1&flags=false&predictions=false\",\n",
    "             \"https://dashboard.hohonu.io/api/v1/stations/hohonu-162/waterlevel?from=2024-12-01%2000%3A00&to=2024-12-31%2023%3A59&units=metric&datum=NAVD&qc_level=1&flags=false&predictions=false\",\n",
    "             \"https://dashboard.hohonu.io/api/v1/stations/hohonu-162/waterlevel?from=2025-01-01%2000%3A00&to=2025-01-31%2023%3A59&units=metric&datum=NAVD&qc_level=1&flags=false&predictions=false\"]"
   ]
  },
  {
   "cell_type": "code",
   "execution_count": 3,
   "id": "41cfd62c-0242-4d94-a291-f72ae6a9ad18",
   "metadata": {},
   "outputs": [],
   "source": [
    "def get_tide_data(url):\n",
    "    headers = {\"accept\": \"application/json\",\n",
    "               \"Authorization\": \"aef15a8e2589b42d5ea5c10866aa61305993c65c\"}\n",
    "\n",
    "    response = requests.get(url, headers=headers)\n",
    "    dic = loads(response.text)\n",
    "    data_list = dic['data']['waterlevel']\n",
    "    \n",
    "    times = []\n",
    "    levels = []\n",
    "    for k in np.arange(0,len(data_list)):\n",
    "        times.append(data_list[k]['t'])\n",
    "        levels.append(data_list[k]['o'])\n",
    "\n",
    "    return times, levels"
   ]
  },
  {
   "cell_type": "code",
   "execution_count": 4,
   "id": "6c1e1528-184b-42b5-a3d6-18f2773fa1a9",
   "metadata": {
    "scrolled": true
   },
   "outputs": [
    {
     "name": "stdout",
     "output_type": "stream",
     "text": [
      "https://dashboard.hohonu.io/api/v1/stations/hohonu-162/waterlevel?from=2024-01-01%2000%3A00&to=2024-01-31%2023%3A59&units=metric&datum=NAVD&qc_level=1&flags=false&predictions=false done\n",
      "https://dashboard.hohonu.io/api/v1/stations/hohonu-162/waterlevel?from=2024-02-01%2000%3A00&to=2024-02-29%2023%3A59&units=metric&datum=NAVD&qc_level=1&flags=false&predictions=false done\n",
      "https://dashboard.hohonu.io/api/v1/stations/hohonu-162/waterlevel?from=2024-03-01%2000%3A00&to=2024-03-31%2023%3A59&units=metric&datum=NAVD&qc_level=1&flags=false&predictions=false done\n",
      "https://dashboard.hohonu.io/api/v1/stations/hohonu-162/waterlevel?from=2024-04-01%2000%3A00&to=2024-04-30%2023%3A59&units=metric&datum=NAVD&qc_level=1&flags=false&predictions=false done\n",
      "https://dashboard.hohonu.io/api/v1/stations/hohonu-162/waterlevel?from=2024-05-01%2000%3A00&to=2024-05-31%2023%3A59&units=metric&datum=NAVD&qc_level=1&flags=false&predictions=false done\n",
      "https://dashboard.hohonu.io/api/v1/stations/hohonu-162/waterlevel?from=2024-06-01%2000%3A00&to=2024-06-30%2023%3A59&units=metric&datum=NAVD&qc_level=1&flags=false&predictions=false done\n",
      "https://dashboard.hohonu.io/api/v1/stations/hohonu-162/waterlevel?from=2024-07-01%2000%3A00&to=2024-07-31%2023%3A59&units=metric&datum=NAVD&qc_level=1&flags=false&predictions=false done\n",
      "https://dashboard.hohonu.io/api/v1/stations/hohonu-162/waterlevel?from=2024-08-01%2000%3A00&to=2024-08-31%2023%3A59&units=metric&datum=NAVD&qc_level=1&flags=false&predictions=false done\n",
      "https://dashboard.hohonu.io/api/v1/stations/hohonu-162/waterlevel?from=2024-09-01%2000%3A00&to=2024-09-30%2023%3A59&units=metric&datum=NAVD&qc_level=1&flags=false&predictions=false done\n",
      "https://dashboard.hohonu.io/api/v1/stations/hohonu-162/waterlevel?from=2024-10-01%2000%3A00&to=2024-10-31%2023%3A59&units=metric&datum=NAVD&qc_level=1&flags=false&predictions=false done\n",
      "https://dashboard.hohonu.io/api/v1/stations/hohonu-162/waterlevel?from=2024-11-01%2000%3A00&to=2024-11-30%2023%3A59&units=metric&datum=NAVD&qc_level=1&flags=false&predictions=false done\n",
      "https://dashboard.hohonu.io/api/v1/stations/hohonu-162/waterlevel?from=2024-12-01%2000%3A00&to=2024-12-31%2023%3A59&units=metric&datum=NAVD&qc_level=1&flags=false&predictions=false done\n",
      "https://dashboard.hohonu.io/api/v1/stations/hohonu-162/waterlevel?from=2025-01-01%2000%3A00&to=2025-01-31%2023%3A59&units=metric&datum=NAVD&qc_level=1&flags=false&predictions=false done\n"
     ]
    }
   ],
   "source": [
    "time = []\n",
    "tide = []\n",
    "for k in navd_urls:\n",
    "    t, l =  get_tide_data(k)\n",
    "    time.append(t)\n",
    "    tide.append(l)\n",
    "    print(k+' done')"
   ]
  },
  {
   "cell_type": "code",
   "execution_count": 5,
   "id": "1071173e",
   "metadata": {},
   "outputs": [],
   "source": [
    "## flatten the lists\n",
    "def flatten(xss):\n",
    "    return [x for xs in xss for x in xs]\n",
    "\n",
    "time_navd = flatten(time)\n",
    "tide_navd = flatten(tide)"
   ]
  },
  {
   "cell_type": "code",
   "execution_count": 6,
   "id": "baf67ecf",
   "metadata": {},
   "outputs": [],
   "source": [
    "savemat('hohonu-162-gmt_navd.mat',\n",
    "        {'time':time_navd,\n",
    "         'level':tide_navd})"
   ]
  },
  {
   "cell_type": "markdown",
   "id": "ccc9dac1",
   "metadata": {},
   "source": [
    "## the following cells get MHHW data"
   ]
  },
  {
   "cell_type": "code",
   "execution_count": 7,
   "id": "29385431",
   "metadata": {},
   "outputs": [],
   "source": [
    "mhhw_urls = [\"https://dashboard.hohonu.io/api/v1/stations/hohonu-162/waterlevel?from=2024-01-01%2000%3A00&to=2024-01-31%2023%3A59&units=metric&datum=MHHW&qc_level=1&flags=false&predictions=false\",\n",
    "             \"https://dashboard.hohonu.io/api/v1/stations/hohonu-162/waterlevel?from=2024-02-01%2000%3A00&to=2024-02-29%2023%3A59&units=metric&datum=MHHW&qc_level=1&flags=false&predictions=false\",\n",
    "             \"https://dashboard.hohonu.io/api/v1/stations/hohonu-162/waterlevel?from=2024-03-01%2000%3A00&to=2024-03-31%2023%3A59&units=metric&datum=MHHW&qc_level=1&flags=false&predictions=false\",\n",
    "             \"https://dashboard.hohonu.io/api/v1/stations/hohonu-162/waterlevel?from=2024-04-01%2000%3A00&to=2024-04-30%2023%3A59&units=metric&datum=MHHW&qc_level=1&flags=false&predictions=false\",\n",
    "             \"https://dashboard.hohonu.io/api/v1/stations/hohonu-162/waterlevel?from=2024-05-01%2000%3A00&to=2024-05-31%2023%3A59&units=metric&datum=MHHW&qc_level=1&flags=false&predictions=false\",\n",
    "             \"https://dashboard.hohonu.io/api/v1/stations/hohonu-162/waterlevel?from=2024-06-01%2000%3A00&to=2024-06-30%2023%3A59&units=metric&datum=MHHW&qc_level=1&flags=false&predictions=false\",\n",
    "             \"https://dashboard.hohonu.io/api/v1/stations/hohonu-162/waterlevel?from=2024-07-01%2000%3A00&to=2024-07-31%2023%3A59&units=metric&datum=MHHW&qc_level=1&flags=false&predictions=false\",\n",
    "             \"https://dashboard.hohonu.io/api/v1/stations/hohonu-162/waterlevel?from=2024-08-01%2000%3A00&to=2024-08-31%2023%3A59&units=metric&datum=MHHW&qc_level=1&flags=false&predictions=false\",\n",
    "             \"https://dashboard.hohonu.io/api/v1/stations/hohonu-162/waterlevel?from=2024-09-01%2000%3A00&to=2024-09-30%2023%3A59&units=metric&datum=MHHW&qc_level=1&flags=false&predictions=false\",\n",
    "             \"https://dashboard.hohonu.io/api/v1/stations/hohonu-162/waterlevel?from=2024-10-01%2000%3A00&to=2024-10-31%2023%3A59&units=metric&datum=MHHW&qc_level=1&flags=false&predictions=false\",\n",
    "             \"https://dashboard.hohonu.io/api/v1/stations/hohonu-162/waterlevel?from=2024-11-01%2000%3A00&to=2024-11-30%2023%3A59&units=metric&datum=MHHW&qc_level=1&flags=false&predictions=false\",\n",
    "             \"https://dashboard.hohonu.io/api/v1/stations/hohonu-162/waterlevel?from=2024-12-01%2000%3A00&to=2024-12-31%2023%3A59&units=metric&datum=MHHW&qc_level=1&flags=false&predictions=false\",\n",
    "             \"https://dashboard.hohonu.io/api/v1/stations/hohonu-162/waterlevel?from=2025-01-01%2000%3A00&to=2025-01-31%2023%3A59&units=metric&datum=MHHW&qc_level=1&flags=false&predictions=false\"]"
   ]
  },
  {
   "cell_type": "code",
   "execution_count": 8,
   "id": "41f84dcc",
   "metadata": {},
   "outputs": [
    {
     "name": "stdout",
     "output_type": "stream",
     "text": [
      "https://dashboard.hohonu.io/api/v1/stations/hohonu-162/waterlevel?from=2024-01-01%2000%3A00&to=2024-01-31%2023%3A59&units=metric&datum=MHHW&qc_level=1&flags=false&predictions=false done\n",
      "https://dashboard.hohonu.io/api/v1/stations/hohonu-162/waterlevel?from=2024-02-01%2000%3A00&to=2024-02-29%2023%3A59&units=metric&datum=MHHW&qc_level=1&flags=false&predictions=false done\n",
      "https://dashboard.hohonu.io/api/v1/stations/hohonu-162/waterlevel?from=2024-03-01%2000%3A00&to=2024-03-31%2023%3A59&units=metric&datum=MHHW&qc_level=1&flags=false&predictions=false done\n",
      "https://dashboard.hohonu.io/api/v1/stations/hohonu-162/waterlevel?from=2024-04-01%2000%3A00&to=2024-04-30%2023%3A59&units=metric&datum=MHHW&qc_level=1&flags=false&predictions=false done\n",
      "https://dashboard.hohonu.io/api/v1/stations/hohonu-162/waterlevel?from=2024-05-01%2000%3A00&to=2024-05-31%2023%3A59&units=metric&datum=MHHW&qc_level=1&flags=false&predictions=false done\n",
      "https://dashboard.hohonu.io/api/v1/stations/hohonu-162/waterlevel?from=2024-06-01%2000%3A00&to=2024-06-30%2023%3A59&units=metric&datum=MHHW&qc_level=1&flags=false&predictions=false done\n",
      "https://dashboard.hohonu.io/api/v1/stations/hohonu-162/waterlevel?from=2024-07-01%2000%3A00&to=2024-07-31%2023%3A59&units=metric&datum=MHHW&qc_level=1&flags=false&predictions=false done\n",
      "https://dashboard.hohonu.io/api/v1/stations/hohonu-162/waterlevel?from=2024-08-01%2000%3A00&to=2024-08-31%2023%3A59&units=metric&datum=MHHW&qc_level=1&flags=false&predictions=false done\n",
      "https://dashboard.hohonu.io/api/v1/stations/hohonu-162/waterlevel?from=2024-09-01%2000%3A00&to=2024-09-30%2023%3A59&units=metric&datum=MHHW&qc_level=1&flags=false&predictions=false done\n",
      "https://dashboard.hohonu.io/api/v1/stations/hohonu-162/waterlevel?from=2024-10-01%2000%3A00&to=2024-10-31%2023%3A59&units=metric&datum=MHHW&qc_level=1&flags=false&predictions=false done\n",
      "https://dashboard.hohonu.io/api/v1/stations/hohonu-162/waterlevel?from=2024-11-01%2000%3A00&to=2024-11-30%2023%3A59&units=metric&datum=MHHW&qc_level=1&flags=false&predictions=false done\n",
      "https://dashboard.hohonu.io/api/v1/stations/hohonu-162/waterlevel?from=2024-12-01%2000%3A00&to=2024-12-31%2023%3A59&units=metric&datum=MHHW&qc_level=1&flags=false&predictions=false done\n",
      "https://dashboard.hohonu.io/api/v1/stations/hohonu-162/waterlevel?from=2025-01-01%2000%3A00&to=2025-01-31%2023%3A59&units=metric&datum=MHHW&qc_level=1&flags=false&predictions=false done\n"
     ]
    }
   ],
   "source": [
    "time = []\n",
    "tide = []\n",
    "for k in mhhw_urls:\n",
    "    t, l =  get_tide_data(k)\n",
    "    time.append(t)\n",
    "    tide.append(l)\n",
    "    print(k+' done')"
   ]
  },
  {
   "cell_type": "code",
   "execution_count": 9,
   "id": "ecb9add4",
   "metadata": {},
   "outputs": [],
   "source": [
    "time_mhhw = flatten(time)\n",
    "tide_mhhw = flatten(tide)"
   ]
  },
  {
   "cell_type": "code",
   "execution_count": 10,
   "id": "7284c49b",
   "metadata": {},
   "outputs": [],
   "source": [
    "savemat('hohonu-162-gmt_mhhw.mat',\n",
    "        {'time':time_mhhw,\n",
    "         'level':tide_mhhw})"
   ]
  },
  {
   "cell_type": "code",
   "execution_count": null,
   "id": "fd5faaa5",
   "metadata": {},
   "outputs": [],
   "source": []
  }
 ],
 "metadata": {
  "kernelspec": {
   "display_name": "Python 3 (ipykernel)",
   "language": "python",
   "name": "python3"
  },
  "language_info": {
   "codemirror_mode": {
    "name": "ipython",
    "version": 3
   },
   "file_extension": ".py",
   "mimetype": "text/x-python",
   "name": "python",
   "nbconvert_exporter": "python",
   "pygments_lexer": "ipython3",
   "version": "3.11.5"
  }
 },
 "nbformat": 4,
 "nbformat_minor": 5
}
